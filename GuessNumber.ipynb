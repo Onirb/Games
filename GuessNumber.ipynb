{
  "nbformat": 4,
  "nbformat_minor": 0,
  "metadata": {
    "colab": {
      "provenance": []
    },
    "kernelspec": {
      "name": "python3",
      "display_name": "Python 3"
    },
    "language_info": {
      "name": "python"
    }
  },
  "cells": [
    {
      "cell_type": "code",
      "execution_count": 1,
      "metadata": {
        "id": "frqAXQ1wWitD"
      },
      "outputs": [],
      "source": [
        "#NumberGuessing"
      ]
    },
    {
      "cell_type": "code",
      "metadata": {
        "id": "08b75468"
      },
      "source": [
        "#from art import numberguessing"
      ],
      "execution_count": 2,
      "outputs": []
    },
    {
      "cell_type": "code",
      "source": [
        "numberguessing = '''\n",
        "\n",
        "   ____\n",
        "  / ___| _   _   ___  ___ ___\n",
        " | |  _ | | | | / _ \\/ __/ __|\n",
        " | |_| || |_| ||  __/\\__ \\__ \\\n",
        "  \\____| \\__,_| \\___||___/___/\n",
        "\n",
        "                       _\n",
        "                      | |\n",
        " _ __  _   _ _ __ ___ | |__   ___ _ __\n",
        "| '_ \\| | | | '_ ` _ \\| '_ \\ / _ \\ '__/\n",
        "| | | | |_| | | | | | | |_) |  __/ |\n",
        "|_| |_|\\__,_|_| |_| |_|_.__/ \\___|_|\n",
        "\n",
        "'''"
      ],
      "metadata": {
        "colab": {
          "base_uri": "https://localhost:8080/"
        },
        "id": "JNSgRhMztakb",
        "outputId": "6da3a27b-4190-4c44-8fad-e606312b6fe5"
      },
      "execution_count": 4,
      "outputs": [
        {
          "output_type": "stream",
          "name": "stderr",
          "text": [
            "<>:5: SyntaxWarning: invalid escape sequence '\\/'\n",
            "<>:5: SyntaxWarning: invalid escape sequence '\\/'\n",
            "/tmp/ipython-input-3586798034.py:5: SyntaxWarning: invalid escape sequence '\\/'\n",
            "  | |  _ | | | | / _ \\/ __/ __|\n"
          ]
        }
      ]
    },
    {
      "cell_type": "code",
      "metadata": {
        "colab": {
          "base_uri": "https://localhost:8080/"
        },
        "id": "b361f002",
        "outputId": "e9221758-e5da-41fc-b89f-538e8578b520"
      },
      "source": [
        "def numberguess():\n",
        "\n",
        "  print(numberguessing)\n",
        "  print('Welcome to the Number Guessing Game!!')\n",
        "  print('I am thinking of a number between 1 and 100..')\n",
        "  import random\n",
        "  answer = random.randint(1,100)\n",
        "  level = input('Carefully choose a dificult level easy or hard? ').lower()\n",
        "  if level == 'easy':\n",
        "    attempts = 10\n",
        "  else:\n",
        "    attempts = 5\n",
        "  print(f'You have {attempts} attempts remaining to guess the number.')\n",
        "  guess = 0\n",
        "  while attempts > 0 and guess != answer:\n",
        "    guess = int(input('Make a guess: '))\n",
        "    if guess == answer:\n",
        "      print(f'You got it! The answer was {answer}.')\n",
        "    elif guess > answer:\n",
        "      print('Too high.')\n",
        "      attempts -= 1\n",
        "      print(f'You have {attempts} attempts remaining to guess the number.')\n",
        "    elif guess < answer:\n",
        "      print('Too low.')\n",
        "      attempts -= 1\n",
        "      print(f'You have {attempts} attempts remaining to guess the number.')\n",
        "  if attempts == 0:\n",
        "    print(f'You have run out of guesses, you lose. Better Lucky next time!! The number was {answer}!')\n",
        "\n",
        "\n",
        "numberguess()\n",
        "\n",
        "playagain = input('Do you want to play again? ')\n",
        "while playagain == 'yes':\n",
        "  numberguess()\n",
        "  playagain = input('Do you want to play again? ')\n",
        "  if playagain == 'no':\n",
        "    print('Thanks for the Game, it was fun!')\n",
        "    break\n",
        "\n"
      ],
      "execution_count": 11,
      "outputs": [
        {
          "name": "stdout",
          "output_type": "stream",
          "text": [
            "\n",
            "\n",
            "   ____                     \n",
            "  / ___| _   _   ___  ___ ___  \n",
            " | |  _ | | | | / _ \\/ __/ __|\n",
            " | |_| || |_| ||  __/\\__ \\__ \\ \n",
            "  \\____| \\__,_| \\___||___/___/          \n",
            "\n",
            "                       _                   \n",
            "                      | |                  \n",
            " _ __  _   _ _ __ ___ | |__   ___ _ __  \n",
            "| '_ \\| | | | '_ ` _ \\| '_ \\ / _ \\ '__/\n",
            "| | | | |_| | | | | | | |_) |  __/ |  \n",
            "|_| |_|\\__,_|_| |_| |_|_.__/ \\___|_|  \n",
            "\n",
            "\n",
            "Welcome to the Number Guessing Game!!\n",
            "I am thinking of a number between 1 and 100..\n",
            "Carefully choose a dificult level easy or hard? hard\n",
            "You have 5 attempts remaining to guess the number.\n",
            "Make a guess: 55\n",
            "Too low.\n",
            "You have 4 attempts remaining to guess the number.\n",
            "Make a guess: 80\n",
            "Too low.\n",
            "You have 3 attempts remaining to guess the number.\n",
            "Make a guess: 90\n",
            "Too low.\n",
            "You have 2 attempts remaining to guess the number.\n",
            "Make a guess: 95\n",
            "Too high.\n",
            "You have 1 attempts remaining to guess the number.\n",
            "Make a guess: 92\n",
            "You got it! The answer was 92.\n",
            "Do you want to play again? yes\n",
            "\n",
            "\n",
            "   ____                     \n",
            "  / ___| _   _   ___  ___ ___  \n",
            " | |  _ | | | | / _ \\/ __/ __|\n",
            " | |_| || |_| ||  __/\\__ \\__ \\ \n",
            "  \\____| \\__,_| \\___||___/___/          \n",
            "\n",
            "                       _                   \n",
            "                      | |                  \n",
            " _ __  _   _ _ __ ___ | |__   ___ _ __  \n",
            "| '_ \\| | | | '_ ` _ \\| '_ \\ / _ \\ '__/\n",
            "| | | | |_| | | | | | | |_) |  __/ |  \n",
            "|_| |_|\\__,_|_| |_| |_|_.__/ \\___|_|  \n",
            "\n",
            "\n",
            "Welcome to the Number Guessing Game!!\n",
            "I am thinking of a number between 1 and 100..\n",
            "Carefully choose a dificult level easy or hard? easy\n",
            "You have 10 attempts remaining to guess the number.\n",
            "Make a guess: 60\n",
            "Too low.\n",
            "You have 9 attempts remaining to guess the number.\n",
            "Make a guess: 80\n",
            "Too high.\n",
            "You have 8 attempts remaining to guess the number.\n",
            "Make a guess: 70\n",
            "You got it! The answer was 70.\n",
            "Do you want to play again?no\n"
          ]
        }
      ]
    },
    {
      "cell_type": "code",
      "source": [],
      "metadata": {
        "id": "r1Qwd_zy11rT"
      },
      "execution_count": null,
      "outputs": []
    }
  ]
}