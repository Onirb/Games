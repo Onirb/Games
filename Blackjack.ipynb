{
  "nbformat": 4,
  "nbformat_minor": 0,
  "metadata": {
    "colab": {
      "provenance": []
    },
    "kernelspec": {
      "name": "python3",
      "display_name": "Python 3"
    },
    "language_info": {
      "name": "python"
    }
  },
  "cells": [
    {
      "cell_type": "code",
      "execution_count": null,
      "metadata": {
        "id": "frqAXQ1wWitD"
      },
      "outputs": [],
      "source": [
        "#BlackJack"
      ]
    },
    {
      "cell_type": "code",
      "metadata": {
        "id": "08b75468"
      },
      "source": [],
      "execution_count": null,
      "outputs": []
    },
    {
      "cell_type": "code",
      "metadata": {
        "colab": {
          "base_uri": "https://localhost:8080/"
        },
        "id": "b361f002",
        "outputId": "702c49ff-62dc-4c24-8fcb-13b47056bf72"
      },
      "source": [
        "def calculate_hand_value(hand):\n",
        "    \"\"\"Calculates the value of a Blackjack hand.\"\"\"\n",
        "    value = 0\n",
        "    ace_count = 0\n",
        "    for card in hand:\n",
        "        rank = card.split(' ')[0]\n",
        "        if rank in cards:\n",
        "            value += cards[rank]\n",
        "            if rank == 'Ace':\n",
        "                ace_count += 1\n",
        "        # Handle cases where the rank is not in the cards dictionary (shouldn't happen with the current deck)\n",
        "        else:\n",
        "            print(f\"Warning: Unknown card rank '{rank}'\")\n",
        "\n",
        "    # Adjust for Aces\n",
        "    while value > 21 and ace_count > 0:\n",
        "        value -= 10  # Change Ace from 11 to 1\n",
        "        ace_count -= 1\n",
        "    return value\n",
        "\n",
        "def is_blackjack(hand):\n",
        "    \"\"\"Checks if a hand is a Blackjack.\"\"\"\n",
        "    if len(hand) == 2 and calculate_hand_value(hand) == 21:\n",
        "        # Check if the hand contains an Ace and a 10-value card\n",
        "        ranks = [card.split(' ')[0] for card in hand]\n",
        "        if ('Ace' in ranks and any(rank in ['10', 'Valet', 'Queen', 'King'] for rank in ranks)):\n",
        "            return True\n",
        "    return False\n",
        "play_again = 'Yes'\n",
        "while play_again == 'Yes':\n",
        "    # Initialize the deck\n",
        "    suits = ['Hearts', 'Diamonds', 'Clubs', 'Spades']\n",
        "    ranks = ['2', '3', '4', '5', '6', '7', '8', '9', '10', 'Valet', 'Queen', 'King', 'Ace']\n",
        "    deck = []\n",
        "    for suit in suits:\n",
        "        for rank in ranks:\n",
        "            deck.append(f'{rank} of {suit}')\n",
        "\n",
        "    # Shuffle the deck\n",
        "    from random import shuffle\n",
        "    shuffle(deck)\n",
        "\n",
        "    # Deal initial hands\n",
        "    player_hand = []\n",
        "    dealer_hand = []\n",
        "\n",
        "    player_hand.append(deck.pop(0))\n",
        "    player_hand.append(deck.pop(0))\n",
        "\n",
        "    dealer_hand.append(deck.pop(0))\n",
        "    dealer_hand.append(deck.pop(0))\n",
        "\n",
        "    # Calculate initial hand values\n",
        "    cards = {'2': 2, '3': 3, '4': 4, '5': 5, '6': 6, '7': 7, '8': 8, '9': 9, '10': 10, 'Valet': 10, 'Queen': 10, 'King': 10, 'Ace': 11}\n",
        "    player_value = calculate_hand_value(player_hand)\n",
        "    dealer_value = calculate_hand_value(dealer_hand)\n",
        "\n",
        "    # Check for initial Blackjack\n",
        "    player_blackjack = is_blackjack(player_hand)\n",
        "    dealer_blackjack = is_blackjack(dealer_hand)\n",
        "\n",
        "    if player_blackjack and dealer_blackjack:\n",
        "        print(\"It's a Blackjack tie!\")\n",
        "    elif player_blackjack:\n",
        "        print(\"Blackjack! Player wins!\")\n",
        "    elif dealer_blackjack:\n",
        "        print(\"Blackjack! Dealer wins!\")\n",
        "    else:\n",
        "        # Player's turn\n",
        "        print(\"\\n--- Player's Turn ---\")\n",
        "        Mcard = input(f\"My Dear player, as you can see, we both have two cards. One of my cards is: {dealer_hand[0]}. And your Sum is: {player_value}. Do you want another card at your own risk? Yes or No? \")\n",
        "\n",
        "        while Mcard.lower() == 'yes':\n",
        "            player_hand.append(deck.pop(0))\n",
        "            player_value = calculate_hand_value(player_hand)\n",
        "            print(\"Player's hand:\", player_hand, player_value)\n",
        "            if player_value > 21:\n",
        "                break # Player busts\n",
        "            Mcard = input(f'Do you want another card at your own Risk? Yes or No ?')\n",
        "\n",
        "        # Dealer's turn (only if player didn't bust)\n",
        "        if player_value <= 21:\n",
        "            print(\"\\n--- Dealer's Turn ---\")\n",
        "            while dealer_value < 17:\n",
        "                dealer_hand.append(deck.pop(0))\n",
        "                dealer_value = calculate_hand_value(dealer_hand)\n",
        "                print(\"Dealer's hand:\", dealer_hand, dealer_value)\n",
        "\n",
        "        # Determine the winner\n",
        "        print(\"\\n--- Results ---\")\n",
        "        print(\"Player's hand:\", player_hand, player_value)\n",
        "        print(\"Dealer's hand:\", dealer_hand, dealer_value )\n",
        "\n",
        "        if player_value > 21:\n",
        "            print(\"Player busts! Dealer wins!\")\n",
        "        elif dealer_value > 21:\n",
        "            print(\"Dealer busts! Player wins!\")\n",
        "        elif player_value > dealer_value:\n",
        "            print(\"Player wins!\")\n",
        "        elif player_value < dealer_value:\n",
        "            print(\"Dealer wins!\")\n",
        "        else:\n",
        "            print(\"It's a tie!\")\n",
        "\n",
        "    play_again = input(\"Do you want to play again? Yes or No? \")"
      ],
      "execution_count": null,
      "outputs": [
        {
          "name": "stdout",
          "output_type": "stream",
          "text": [
            "\n",
            "--- Player's Turn ---\n",
            "My Dear player, as you can see, we both have two cards. One of my cards is: King of Spades. And your Sum is: 11. Do you want another card at your own risk? Yes or No? yes\n",
            "Player's hand: ['7 of Clubs', '4 of Diamonds', '7 of Spades'] 18\n",
            "Do you want another card at your own Risk? Yes or No ?no\n",
            "\n",
            "--- Dealer's Turn ---\n",
            "Dealer's hand: ['King of Spades', '4 of Spades', '6 of Spades'] 20\n",
            "\n",
            "--- Results ---\n",
            "Player's hand: ['7 of Clubs', '4 of Diamonds', '7 of Spades'] 18\n",
            "Dealer's hand: ['King of Spades', '4 of Spades', '6 of Spades'] 20\n",
            "Dealer wins!\n",
            "Do you want to play again? Yes or No? no\n"
          ]
        }
      ]
    },
    {
      "cell_type": "code",
      "source": [],
      "metadata": {
        "id": "r1Qwd_zy11rT"
      },
      "execution_count": null,
      "outputs": []
    }
  ]
}